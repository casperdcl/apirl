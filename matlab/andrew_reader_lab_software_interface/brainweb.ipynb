{
 "cells": [
  {
   "cell_type": "code",
   "execution_count": null,
   "metadata": {},
   "outputs": [],
   "source": [
    "from __future__ import division\n",
    "%matplotlib notebook\n",
    "import matplotlib.pyplot as plt\n",
    "import numpy as np\n",
    "from caspyr.utils import H5Reader\n",
    "from caspyr.plotting import volshow\n",
    "from argopt import DictAttrWrap\n",
    "import logging\n",
    "\n",
    "logging.basicConfig(level=logging.INFO)"
   ]
  },
  {
   "cell_type": "code",
   "execution_count": null,
   "metadata": {},
   "outputs": [],
   "source": [
    "def imshow(im, cmap=\"Greys\", origin=\"lower\", title=None):\n",
    "    ax = plt.imshow(im, cmap=cmap, origin=origin)\n",
    "    plt.axis(\"off\")\n",
    "    if title:\n",
    "        plt.title(title)"
   ]
  },
  {
   "cell_type": "code",
   "execution_count": null,
   "metadata": {},
   "outputs": [],
   "source": [
    "dat = H5Reader(\"brainweb.raws/subject_04_sigma1_noise0.75_mMR.mat\", prefix=\"MultiMaps_Ref/\")\n",
    "dat.PET = H5Reader(\"brainweb.raws/subject_04_sigma1_noise1_mMR.mat\", prefix=\"MultiMaps_Ref/\").PET[:]\n",
    "d = dict()\n",
    "for i in dat.keys():\n",
    "    d[i] = getattr(dat, i)[:]\n",
    "del dat\n",
    "d = DictAttrWrap(d)"
   ]
  },
  {
   "cell_type": "code",
   "execution_count": null,
   "metadata": {},
   "outputs": [],
   "source": [
    "ROI = slice(0, None), slice(100, -100), slice(100, -100)\n",
    "volshow([(i, getattr(d, i)[ROI]) for i in d.d.keys()]);"
   ]
  },
  {
   "cell_type": "code",
   "execution_count": null,
   "metadata": {},
   "outputs": [],
   "source": [
    "nReals = 5\n",
    "PAD = 4\n",
    "ROI = (19, 108), (128, 100+115), (120, 100+124)\n",
    "ROI = [slice(i - PAD, j + PAD) for i, j in ROI]"
   ]
  },
  {
   "cell_type": "code",
   "execution_count": null,
   "metadata": {},
   "outputs": [],
   "source": [
    "def load(nPats, nReals=5, counts=None, ROI=None, **kwargs):\n",
    "    \"\"\"\n",
    "    Intended for loading training data, e.g.:\n",
    "    >>> x, y = load(10, 1, counts=[30, 300])\n",
    "\n",
    "    @param counts  : [low, high] in millions [default: [3, 300]]\n",
    "    @param ROI  : ZXY (even though return is ZYX)\n",
    "    @return ndarray, shape (len(counts), nPats*nReals, D, H, W, Ch)\n",
    "      Ch is 3=<T1, PSF, PET> if `counts > 0`, 1=<TRUTH> otherwise.\n",
    "    \"\"\"\n",
    "    from caspyr.utils import Globber, H5Reader\n",
    "    from os import path\n",
    "    import numpy as np\n",
    "    import logging\n",
    "    from tqdm.auto import tqdm\n",
    "    glob = Globber.glob\n",
    "    log = logging.getLogger(__name__)\n",
    "\n",
    "    DAT_ROOT = \"/data/cc16/apirl/o\"\n",
    "    #\"brainweb_PETpsf_1_subject_{}-S_1-NP_1-NT1_0.75-C_{:.3g}_t3_{:03d}.mat\"\n",
    "    subjects = sorted({i[47:49] for i in glob(path.join(\n",
    "        DAT_ROOT, \"reconAPIRL_brainweb_subject_*-S_1-NP_1-NT1_0.75-C_*_t3.mat\"))})\n",
    "    log.debug(\"subj:\" + ', '.join(subjects))\n",
    "\n",
    "    counts = counts or (3.01, 301)\n",
    "    ROI = ROI or (slice(0, None),) * 3\n",
    "    assert len(ROI) == 3\n",
    "    ROI = tuple(ROI)\n",
    "\n",
    "    res = [] # [counts, nReals + nReals_psf + T1 + PET, z,y,x]\n",
    "    for c in tqdm(counts, desc=\"counts\"):\n",
    "        vols = []\n",
    "        for subj in tqdm(subjects[:nPats], desc=\"subject\", leave=False):\n",
    "            d = path.join(DAT_ROOT,\n",
    "                \"reconAPIRL_brainweb_subject_{}-S_1-NP_1-NT1_0.75-C_{:.3g}_t3.mat\".format(\n",
    "                    subj, abs(c)*1e6))\n",
    "            d = H5Reader(d, prefix=\"reconAPIRL\")\n",
    "            if c < 0:\n",
    "                i = d.PET[ROI][None, :,:,:, None] * d.scale_factor[0,0]  # 1zyx1\n",
    "                i = np.repeat(i, min(d.mlem.shape[3], nReals), axis=-1)  # 1zyxN\n",
    "            else:\n",
    "                i = np.concatenate((\n",
    "                    d.mlem_psf[ROI + (slice(0, nReals),)][None],\n",
    "                    d.mlem[ROI + (slice(0, nReals),)][None],\n",
    "                ))  # 2zyxN\n",
    "                i = np.concatenate((np.repeat(d.T1[ROI][None, :,:,:, None], i.shape[-1], axis=-1), i))  # 3zyxN\n",
    "                #d.PET[ROI][None, :,:,:,None] * d.scale_factor[0,0]\n",
    "            i = i.transpose((4, 1,3,2, 0))  # Nzxy3\n",
    "            vols.append(i)\n",
    "        res.append(np.concatenate(vols))\n",
    "    return res\n",
    "\n",
    "# low->high\n",
    "#dat = load(10, nReals=nReals, counts=[3.01, 301], ROI=ROI) # 2, nReals*10, z, y, x, 3\n",
    "#np.savez_compressed('bweb-3.01-301.npz', x=dat[0], y=dat[1])\n",
    "\n",
    "dat = load(10, nReals=nReals, counts=[3.01, -3.01], ROI=ROI)\n",
    "np.savez_compressed('bweb-3.01-T.npz', x=dat[0], y=dat[1])\n",
    "\n",
    "#dat = load(10, nReals=nReals, counts=[30.1, -30.1], ROI=ROI)\n",
    "#np.savez_compressed('bweb-30.1-T.npz', x=dat[0], y=dat[1])"
   ]
  },
  {
   "cell_type": "code",
   "execution_count": null,
   "metadata": {},
   "outputs": [],
   "source": [
    "d.uMap = np.fromfile('output/data-LM-00-umap-AD_1.v', dtype=np.float32).reshape(127, 344, 344).transpose((0, 2, 1))"
   ]
  },
  {
   "cell_type": "code",
   "execution_count": null,
   "metadata": {},
   "outputs": [],
   "source": [
    "fig, axs = plt.subplots(2, 2, sharex=True, sharey=True)"
   ]
  },
  {
   "cell_type": "code",
   "execution_count": null,
   "metadata": {},
   "outputs": [],
   "source": [
    "plt.sca(axs.flat[0]); imshow(d.PET[64, 100:-100, 100:-100], title=\"PET\")\n",
    "plt.sca(axs.flat[1]); imshow(d.T1[64, 100:-100, 100:-100], title=\"T1\")\n",
    "plt.sca(axs.flat[2]); imshow(d.PET_psf[64, 100:-100, 100:-100], title=\"PET_psf\")\n",
    "plt.sca(axs.flat[3]); imshow(d.uMap[64, 100:-100, 100:-100], title=\"uMap\")"
   ]
  },
  {
   "cell_type": "code",
   "execution_count": null,
   "metadata": {},
   "outputs": [],
   "source": []
  }
 ],
 "metadata": {
  "kernelspec": {
   "display_name": "Python 2",
   "language": "python",
   "name": "python2"
  },
  "language_info": {
   "codemirror_mode": {
    "name": "ipython"
   },
   "file_extension": ".py",
   "mimetype": "text/x-python",
   "name": "python",
   "nbconvert_exporter": "python"
  }
 },
 "nbformat": 4,
 "nbformat_minor": 2
}
