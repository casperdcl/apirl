{
 "cells": [
  {
   "cell_type": "code",
   "execution_count": null,
   "metadata": {},
   "outputs": [],
   "source": [
    "%matplotlib notebook\n",
    "import matplotlib.pyplot as plt\n",
    "import numpy as np\n",
    "from caspyr.utils import H5Reader"
   ]
  },
  {
   "cell_type": "code",
   "execution_count": null,
   "metadata": {},
   "outputs": [],
   "source": [
    "def imshow(im, cmap=\"Greys\", origin=\"lower\", title=None):\n",
    "    ax = plt.imshow(im, cmap=cmap, origin=origin)\n",
    "    plt.axis(\"off\")\n",
    "    if title:\n",
    "        plt.title(title)"
   ]
  },
  {
   "cell_type": "code",
   "execution_count": null,
   "metadata": {},
   "outputs": [],
   "source": [
    "d = H5Reader(\"brainweb.raws/subject_04_sigma1_noise0.75_mMR.mat\", prefix=\"MultiMaps_Ref/\")\n",
    "d.PET = H5Reader(\"brainweb.raws/subject_04_sigma1_noise1_mMR.mat\", prefix=\"MultiMaps_Ref/\").PET\n",
    "d.keys()"
   ]
  },
  {
   "cell_type": "code",
   "execution_count": null,
   "metadata": {},
   "outputs": [],
   "source": [
    "fig, axs = plt.subplots(2, 2, sharex=True, sharey=True)"
   ]
  },
  {
   "cell_type": "code",
   "execution_count": null,
   "metadata": {},
   "outputs": [],
   "source": [
    "plt.sca(axs.flat[0]); imshow(d.PET[64, 100:-100, 100:-100], title=\"PET\")\n",
    "plt.sca(axs.flat[1]); imshow(d.T1[64, 100:-100, 100:-100], title=\"T1\")\n",
    "plt.sca(axs.flat[2]); imshow(d.T2[64, 100:-100, 100:-100], title=\"T2\")\n",
    "plt.sca(axs.flat[3]); imshow(d.uMap[64, 100:-100, 100:-100], title=\"uMap\")"
   ]
  },
  {
   "cell_type": "code",
   "execution_count": null,
   "metadata": {},
   "outputs": [],
   "source": [
    "d = H5Reader(\"output/reconAPIRL_real-AD_1.mat\", prefix=\"reconAPIRL/\")\n",
    "d.keys()"
   ]
  },
  {
   "cell_type": "code",
   "execution_count": null,
   "metadata": {},
   "outputs": [],
   "source": [
    "d.uMap = np.fromfile('output/data-LM-00-umap-AD_1.v', dtype=np.float32).reshape(127, 344, 344).transpose((0, 2, 1))"
   ]
  },
  {
   "cell_type": "code",
   "execution_count": null,
   "metadata": {},
   "outputs": [],
   "source": [
    "fig, axs = plt.subplots(2, 2, sharex=True, sharey=True)"
   ]
  },
  {
   "cell_type": "code",
   "execution_count": null,
   "metadata": {},
   "outputs": [],
   "source": [
    "plt.sca(axs.flat[0]); imshow(d.PET[64, 100:-100, 100:-100], title=\"PET\")\n",
    "plt.sca(axs.flat[1]); imshow(d.T1[64, 100:-100, 100:-100], title=\"T1\")\n",
    "plt.sca(axs.flat[2]); imshow(d.PET_psf[64, 100:-100, 100:-100], title=\"PET_psf\")\n",
    "plt.sca(axs.flat[3]); imshow(d.uMap[64, 100:-100, 100:-100], title=\"uMap\")"
   ]
  },
  {
   "cell_type": "code",
   "execution_count": null,
   "metadata": {},
   "outputs": [],
   "source": []
  }
 ],
 "metadata": {
  "kernelspec": {
   "display_name": "Python 2",
   "language": "python",
   "name": "python2"
  },
  "language_info": {
   "codemirror_mode": {
    "name": "ipython"
   },
   "file_extension": ".py",
   "mimetype": "text/x-python",
   "name": "python",
   "nbconvert_exporter": "python"
  }
 },
 "nbformat": 4,
 "nbformat_minor": 2
}
