{
 "cells": [
  {
   "cell_type": "code",
   "execution_count": null,
   "metadata": {},
   "outputs": [],
   "source": [
    "clear all, close all, delete(gcp('nocreate'))"
   ]
  },
  {
   "cell_type": "code",
   "execution_count": null,
   "metadata": {},
   "outputs": [],
   "source": [
    "parpool('local', 10)"
   ]
  },
  {
   "cell_type": "code",
   "execution_count": null,
   "metadata": {},
   "outputs": [],
   "source": [
    "i=0;\n",
    "%for tumours = [0, 1, 2]\n",
    "for tumours = [3]\n",
    "%for subj = [1, 2]\n",
    "%for subj = [5, 20, 4, 54]\n",
    "for subj = [4:6 18 20 38 41:54]\n",
    "%for dose = [0.1, 1, 10, -1, .7, 0.2, 0.4]\n",
    "%for dose = [0.01, 0.1, 0.7]\n",
    "for dose = [.7, .14, .07, .007]\n",
    "i = i + 1\n",
    "%if i < 3, continue, end\n",
    "\n",
    "%if subj==5, tumours=tumours*-1;\n",
    "%else, tumours=tumours*-2;\n",
    "%end\n",
    "\n",
    "% negative counts -> no noise\n",
    "% negative tumours -> deterministic tumour generation\n",
    "\n",
    "%% brainweb reconstruction simulation\n",
    "reconAPIRL = MLEM(1, 1, 0.75, sprintf('subject_%02d', subj), ...\n",
    "  430e6 * dose, -tumours, ...\n",
    "  '/data/cc16/apirl/0');\n",
    "%% real patient re-reconstruction\n",
    "%reconAPIRL = MLEM(1, 1, 0.75, sprintf('AD_%d', subj), ...\n",
    "%  430e6 * dose, -subj * tumours, ...\n",
    "%  '/scratch/cc16/apirl/0', [4 6 7] + 1);\n",
    "\n",
    "end, end\n",
    "end"
   ]
  }
 ],
 "metadata": {
  "kernelspec": {
   "display_name": "Matlab",
   "language": "matlab",
   "name": "matlab"
  },
  "language_info": {
   "codemirror_mode": "octave",
   "file_extension": ".m",
   "help_links": [
    {
     "text": "MetaKernel Magics",
     "url": "https://github.com/calysto/metakernel/blob/master/metakernel/magics/README.md"
    }
   ],
   "mimetype": "text/x-octave",
   "name": "matlab"
  }
 },
 "nbformat": 4,
 "nbformat_minor": 2
}
