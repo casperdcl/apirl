{
 "cells": [
  {
   "cell_type": "code",
   "execution_count": null,
   "metadata": {},
   "outputs": [],
   "source": [
    "LS = @(x) strsplit(strip(ls(x)));"
   ]
  },
  {
   "cell_type": "code",
   "execution_count": null,
   "metadata": {},
   "outputs": [],
   "source": [
    "outDir = 'output/';\n",
    "%recons = LS('output/*/*_PET_0_*_100.mat');\n",
    "recons = LS([outDir '*/*_PET_0_*subject_04*_100.mat']);\n",
    "NR = length(recons)"
   ]
  },
  {
   "cell_type": "code",
   "execution_count": null,
   "metadata": {},
   "outputs": [],
   "source": [
    "tic;\n",
    "for i=1:NR\n",
    "  r = recons{i};\n",
    "  [grp, ~] = regexp(r, ['^' outDir '([0-9]+/)(.*)(_PET.*)(_[0-9]+)(_subject.*)(_[0-9]+\\.mat)$'], 'tokens', 'match');\n",
    "  grp = grp{1};\n",
    "  %% grp:\n",
    "  % 1: dir (realisation group)\n",
    "  % 2: type (brainweb|real)\n",
    "  % 3: PET|PETpsf\n",
    "  % 4: realisation\n",
    "  % 5: subject\n",
    "  % 6: iteration & ext\n",
    "\n",
    "  gndmat = [grp{1} grp{2} grp{3} grp{4} grp{5} '_000.mat'];\n",
    "  if exist(gndmat, 'file') ~= 2\n",
    "    %gndmat = dir([outDir '*/' grp{2} '_*' '_*' grp{5} '_000.mat']);  % grp{3}??\n",
    "    %gndmat = gndmat(1).name;\n",
    "    gndmat = LS([outDir '*/' grp{2} '_*' '_*' strrep(grp{5}, '-C_-', '-C_') '_000.mat']);\n",
    "    gndmat = gndmat{1};\n",
    "  end\n",
    "  oldmat = [outDir 'reconAPIRL_' grp{2} grp{5} '.mat'];  % strip _PET(psf)_*_, _000.mat\n",
    "  %newmat = [outDir grp{1} 'reconAPIRL_' grp{2} grp{4} grp{5} '.mat'];\n",
    "  newmat = [outDir grp{1} 'reconAPIRL_' grp{2} grp{5} '.mat'];\n",
    "  if exist(newmat, 'file') == 2\n",
    "    disp(['already existing newmat: ' newmat])\n",
    "    continue\n",
    "  end\n",
    "  mlemats = LS([outDir grp{1} grp{2} '_PET_*'    grp{5} '_100.mat']);\n",
    "  psfmats = LS([outDir grp{1} grp{2} '_PETpsf_*' grp{5} '_300.mat']);\n",
    "  nReals = length(mlemats);\n",
    "  if (nReals ~= length(psfmats)) || (nReals < 1)\n",
    "    disp('cannot find recons')\n",
    "    disp([outDir grp{1} grp{2} '_PET_*'    grp{5} '_100.mat'])\n",
    "    disp([outDir grp{1} grp{2} '_PETpsf_*' grp{5} '_300.mat'])\n",
    "    continue\n",
    "  end\n",
    "\n",
    "  %{\n",
    "  disp(['gndmat: ' gndmat])\n",
    "  disp(['oldmat: ' oldmat])\n",
    "  disp(['newmat: ' newmat])\n",
    "  disp(['mlemats: ' mlemats])\n",
    "  disp(['psfmats: ' psfmats])\n",
    "  continue\n",
    "  %}\n",
    "\n",
    "  %disp(['loading: ' oldmat])\n",
    "  reconAPIRL = load(oldmat);\n",
    "  reconAPIRL = reconAPIRL.reconAPIRL;\n",
    "  %disp(['loading: ' gndmat])\n",
    "  f = load(gndmat);\n",
    "  reconAPIRL.scale_factor = f.scale_factor;\n",
    "  reconAPIRL.PET = f.tAct;\n",
    "  reconAPIRL.T1 = f.T1;\n",
    "  reconAPIRL.Mu = f.tMu;\n",
    "  %recons\n",
    "  mlem = [];\n",
    "  mlem_psf = [];\n",
    "  for fi=1:nReals\n",
    "    %disp(['loading mlemat: ' mlemats{f}])\n",
    "    f = load(mlemats{fi});\n",
    "    mlem = cat(4, mlem, f.Img);\n",
    "    %disp(['loading psfmat: ' psfmats{f}])\n",
    "    f = load(psfmats{fi});\n",
    "    mlem_psf = cat(4, mlem_psf, f.Img);\n",
    "  end\n",
    "  reconAPIRL.mlem = permute(mlem, [4 1 2 3]);\n",
    "  reconAPIRL.mlem_psf = permute(mlem_psf, [4 1 2 3]);\n",
    "  save(newmat, 'reconAPIRL', '-v7.3');\n",
    "  elapsed = toc;\n",
    "  rate = elapsed / i;\n",
    "  fprintf('%d/%d [%.3f<%.3fs, %.3fs/iter]\\n', i, NR, elapsed, (NR-i) * rate, rate)\n",
    "end"
   ]
  }
 ],
 "metadata": {
  "kernelspec": {
   "display_name": "Matlab",
   "language": "matlab",
   "name": "matlab"
  },
  "language_info": {
   "codemirror_mode": "octave",
   "file_extension": ".m",
   "help_links": [
    {
     "text": "MetaKernel Magics",
     "url": "https://github.com/calysto/metakernel/blob/master/metakernel/magics/README.md"
    }
   ],
   "mimetype": "text/x-octave",
   "name": "matlab",
   "version": "0.15.1"
  }
 },
 "nbformat": 4,
 "nbformat_minor": 2
}
