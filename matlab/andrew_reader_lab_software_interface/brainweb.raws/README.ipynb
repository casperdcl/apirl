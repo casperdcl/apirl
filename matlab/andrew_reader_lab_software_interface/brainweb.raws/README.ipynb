{
 "cells": [
  {
   "cell_type": "markdown",
   "metadata": {},
   "source": [
    "# BrainWeb: 20 Anatomical Models of 20 Normal Brains\n",
    "\n",
    "**Download and Preprocessing for PET-MR Simulations**\n",
    "\n",
    "- Output data\n",
    "  + `subject_*.npz`: dtype(shape): `float32(127, 344, 344)`\n",
    "- [Raw data source](http://brainweb.bic.mni.mcgill.ca/brainweb/anatomic_normal_20.html)\n",
    "  + `subject_*.bin`: dtype(shape): `uint16(362, 434, 362)`\n",
    "- Prerequisites\n",
    "  + Python: [requirements.txt](requirements.txt) (e.g. `pip install -r requirements.txt`)\n",
    "\n",
    "----\n",
    "\n",
    "- Author: Casper da Costa-Luis <<casper.dcl@physics.org>>\n",
    "- Date: 2017-19\n",
    "- Licence: [MPLv2.0](https://www.mozilla.org/MPL/2.0)"
   ]
  },
  {
   "cell_type": "markdown",
   "metadata": {},
   "source": [
    "# Download"
   ]
  },
  {
   "cell_type": "code",
   "execution_count": null,
   "metadata": {},
   "outputs": [],
   "source": [
    "LINKS = \"04 05 06 18 20 38 41 42 43 44 45 46 47 48 49 50 51 52 53 54\"\n",
    "LINKS = [\n",
    "    'http://brainweb.bic.mni.mcgill.ca/cgi/brainweb1?do_download_alias=subject' +\n",
    "    i + '_crisp&format_value=raw_short&zip_value=gnuzip&download_for_real=%5BStart+download%21%5D'\n",
    "       for i in LINKS.split()]"
   ]
  },
  {
   "cell_type": "markdown",
   "metadata": {},
   "source": [
    "## Python Version"
   ]
  },
  {
   "cell_type": "code",
   "execution_count": null,
   "metadata": {},
   "outputs": [],
   "source": [
    "from tqdm.auto import tqdm\n",
    "import re\n",
    "from os import path\n",
    "import requests\n",
    "import gzip\n",
    "from utils import StringIO\n",
    "\n",
    "with tqdm(LINKS, desc=\"checking\", unit=\"subject\") as progress:\n",
    "    for url in progress:\n",
    "        out = re.sub('.*(subject)([0-9]+).*', r'\\1_\\2.bin', url)\n",
    "        if path.exists(out):\n",
    "            continue\n",
    "        progress.set_postfix(downloading=out)\n",
    "        d = requests.get(url)\n",
    "        d = StringIO(d.content)\n",
    "        with gzip.GzipFile(fileobj=d) as fi:\n",
    "            with open(out, 'wb') as fo:\n",
    "                fo.write(fi.read())"
   ]
  },
  {
   "cell_type": "markdown",
   "metadata": {},
   "source": [
    "## Bash Version\n",
    "\n",
    "- Requirements\n",
    "  + `bash`: `curl`, `gunzip`, `sed`\n",
    "\n",
    "This should not be required since the Python version should run on any OS.\n",
    "\n",
    "Change the type of the cell below to \"code\" to run it. "
   ]
  },
  {
   "cell_type": "raw",
   "metadata": {},
   "source": [
    "%%bash -s $LINKS\n",
    "\n",
    "for url in ${@}; do\n",
    "  out=$(echo $url | sed -nr 's/.*(subject)([0-9]+).*/\\1_\\2.bin/p')\n",
    "  if [ ! -f $out ]; then\n",
    "    echo downloading $out\n",
    "    curl -L $url | gunzip -c > $out\n",
    "  fi\n",
    "done"
   ]
  },
  {
   "cell_type": "markdown",
   "metadata": {},
   "source": [
    "# Read"
   ]
  },
  {
   "cell_type": "code",
   "execution_count": null,
   "metadata": {},
   "outputs": [],
   "source": [
    "import numpy as np\n",
    "\n",
    "files = ! ls subject_*.bin\n",
    "data = []\n",
    "for f in files:\n",
    "    data.append(np.memmap(f, mode='r', dtype=np.uint16, shape=(362,434, 362)))"
   ]
  },
  {
   "cell_type": "code",
   "execution_count": null,
   "metadata": {},
   "outputs": [],
   "source": [
    "# show last subject\n",
    "%matplotlib notebook\n",
    "from utils import volshow\n",
    "\n",
    "print(files[-1])\n",
    "volshow(data[-1]);"
   ]
  }
 ],
 "metadata": {
  "kernelspec": {
   "display_name": "Python 2",
   "language": "python",
   "name": "python2"
  },
  "language_info": {
   "codemirror_mode": {
    "name": "ipython"
   },
   "file_extension": ".py",
   "mimetype": "text/x-python",
   "name": "python",
   "nbconvert_exporter": "python"
  }
 },
 "nbformat": 4,
 "nbformat_minor": 2
}
