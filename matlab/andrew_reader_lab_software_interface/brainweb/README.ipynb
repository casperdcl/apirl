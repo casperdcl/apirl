{
 "cells": [
  {
   "cell_type": "markdown",
   "metadata": {},
   "source": [
    "# BrainWeb: 20 Anatomical Models of 20 Normal Brains\n",
    "\n",
    "**Download and Preprocessing for PET-MR Simulations**\n",
    "\n",
    "This notebook will not re-download/re-process files if they already exist.\n",
    "\n",
    "- Output data\n",
    "  + `subject_*.npz`: dtype(shape): `float32(127, 344, 344)`\n",
    "- [Raw data source](http://brainweb.bic.mni.mcgill.ca/brainweb/anatomic_normal_20.html)\n",
    "  + `subject_*.bin.gz`: dtype(shape): `uint16(362, 434, 362)`\n",
    "- Prerequisites\n",
    "  + Python: [requirements.txt](requirements.txt) (e.g. `pip install -r requirements.txt`)\n",
    "\n",
    "----\n",
    "\n",
    "- Author: Casper da Costa-Luis <<casper.dcl@physics.org>>\n",
    "- Date: 2017-19\n",
    "- Licence: [MPLv2.0](https://www.mozilla.org/MPL/2.0)"
   ]
  },
  {
   "cell_type": "code",
   "execution_count": null,
   "metadata": {},
   "outputs": [],
   "source": [
    "from __future__ import print_function, division\n",
    "%matplotlib notebook\n",
    "from utils import volshow\n",
    "import numpy as np\n",
    "import gzip\n",
    "from tqdm.auto import tqdm\n",
    "import logging\n",
    "logging.basicConfig(level=logging.INFO)"
   ]
  },
  {
   "cell_type": "markdown",
   "metadata": {},
   "source": [
    "## Download"
   ]
  },
  {
   "cell_type": "code",
   "execution_count": null,
   "metadata": {},
   "outputs": [],
   "source": [
    "LINKS = \"04 05 06 18 20 38 41 42 43 44 45 46 47 48 49 50 51 52 53 54\"\n",
    "LINKS = [\n",
    "    'http://brainweb.bic.mni.mcgill.ca/cgi/brainweb1?do_download_alias=subject' +\n",
    "    i + '_crisp&format_value=raw_short&zip_value=gnuzip&download_for_real=%5BStart+download%21%5D'\n",
    "       for i in LINKS.split()]"
   ]
  },
  {
   "cell_type": "markdown",
   "metadata": {},
   "source": [
    "### Python Version"
   ]
  },
  {
   "cell_type": "code",
   "execution_count": null,
   "metadata": {},
   "outputs": [],
   "source": [
    "import re\n",
    "from os import path\n",
    "import requests\n",
    "\n",
    "with tqdm(LINKS, desc=\"checking\", unit=\"subject\") as progress:\n",
    "    for url in progress:\n",
    "        out = re.sub('.*(subject)([0-9]+).*', r'\\1_\\2.bin.gz', url)\n",
    "        if path.exists(out):\n",
    "            continue\n",
    "        progress.set_postfix(downloading=out)\n",
    "        d = requests.get(url)\n",
    "        with open(out, 'wb') as fo:\n",
    "            fo.write(d.content)"
   ]
  },
  {
   "cell_type": "markdown",
   "metadata": {},
   "source": [
    "### Bash Version\n",
    "\n",
    "- Requirements\n",
    "  + `bash`: `curl`, `sed`\n",
    "\n",
    "This should not be required since the Python version should run on any OS.\n",
    "\n",
    "Change the type of the cell below to \"code\" to run it. "
   ]
  },
  {
   "cell_type": "raw",
   "metadata": {},
   "source": [
    "%%bash -s $LINKS\n",
    "\n",
    "for url in ${@}; do\n",
    "  out=$(echo $url | sed -nr 's/.*(subject)([0-9]+).*/\\1_\\2.bin.gz/p')\n",
    "  if [ ! -f $out ]; then\n",
    "    echo downloading $out\n",
    "    curl -L $url > $out\n",
    "  fi\n",
    "done"
   ]
  },
  {
   "cell_type": "markdown",
   "metadata": {},
   "source": [
    "## Read"
   ]
  },
  {
   "cell_type": "code",
   "execution_count": null,
   "metadata": {},
   "outputs": [],
   "source": [
    "files = ! ls subject_*.bin.gz\n",
    "files.sort()\n",
    "data = []\n",
    "for f in tqdm(files, desc=\"Uncompressing into memory\", unit=\"subject\"):\n",
    "    with gzip.open(f) as fi:\n",
    "        data.append(np.frombuffer(fi.read(), dtype=np.uint16).reshape(362,434, 362))"
   ]
  },
  {
   "cell_type": "code",
   "execution_count": null,
   "metadata": {},
   "outputs": [],
   "source": [
    "# show last subject\n",
    "print(files[-1])\n",
    "volshow(data[-1]);"
   ]
  },
  {
   "cell_type": "markdown",
   "metadata": {},
   "source": [
    "## Transform\n",
    "\n",
    "<div style=\"visibility: hidden\">$\\ifcsname bm\\endcsname\\else\\newcommand{\\bm}[1]{\\mathbf{#1}}\\fi$</div>\n",
    "Convert raw image data:\n",
    "\n",
    "- Siemens Biograph mMR resolution (~2mm) & dimensions (127, 344, 344)\n",
    "- PET/T1/T2/uMap intensities\n",
    "- randomised structure for PET/T1/T2\n",
    "  + $\\bm{\\theta} \\circ (\\bm{1} + \\gamma[2G_\\sigma(\\bm{\\rho}) - \\bm{1}])$\n",
    "    * $\\bm{\\rho} = rand(127, 344, 344) \\in [0, 1)$\n",
    "    * Gaussian smoothing $\\sigma = 1$\n",
    "    * $\\gamma = \\left\\{\\matrix{1 & \\text{for PET}\\\\ 0.75 & \\text{for MR}}\\right.$\n",
    "    * $\\bm{\\theta}$ is the PET or MR piecewise constant phantom"
   ]
  },
  {
   "cell_type": "code",
   "execution_count": null,
   "metadata": {},
   "outputs": [],
   "source": [
    "from utils import noise, toPetMmr\n",
    "\n",
    "sigma = 1\n",
    "petNoise = 1\n",
    "t1Noise = t2Noise = 0.75\n",
    "\n",
    "with tqdm(total=len(files), desc=\"mMR ground truths\", unit=\"subject\") as progress:\n",
    "    for (f, vol) in zip(files, data):\n",
    "        out = f.replace('.bin.gz', '.npz')\n",
    "        if path.exists(out):\n",
    "            progress.update()\n",
    "            continue\n",
    "        progress.set_postfix(creating=out)\n",
    "\n",
    "        pet, uMap, t1, t2 = toPetMmr(vol)\n",
    "        pet = noise(pet, petNoise, sigma=sigma)\n",
    "        t1 = noise(t1, t1Noise, sigma=sigma)\n",
    "        t2 = noise(t2, t2Noise, sigma=sigma)\n",
    "\n",
    "        np.savez_compressed(out, PET=pet[:,::-1], uMap=uMap[:,::-1], T1=t1[:,::-1], T2=t2[:,::-1])\n",
    "        progress.update()"
   ]
  },
  {
   "cell_type": "code",
   "execution_count": null,
   "metadata": {},
   "outputs": [],
   "source": [
    "# show last subject\n",
    "f = files[-1].replace('.bin.gz', '.npz')\n",
    "vol = np.load(f)\n",
    "print(f)\n",
    "volshow(vol['PET'][:, 100:-100, 100:-100], cmap=\"hot\")\n",
    "volshow(vol['T1'][:, 100:-100, 100:-100])\n",
    "volshow(vol['T2'][:, 100:-100, 100:-100])\n",
    "volshow(vol['uMap'][:, 100:-100, 100:-100], cmap=\"bone\");"
   ]
  }
 ],
 "metadata": {
  "kernelspec": {
   "display_name": "Python 2",
   "language": "python",
   "name": "python2"
  },
  "language_info": {
   "codemirror_mode": {
    "name": "ipython"
   },
   "file_extension": ".py",
   "mimetype": "text/x-python",
   "name": "python",
   "nbconvert_exporter": "python"
  }
 },
 "nbformat": 4,
 "nbformat_minor": 2
}
