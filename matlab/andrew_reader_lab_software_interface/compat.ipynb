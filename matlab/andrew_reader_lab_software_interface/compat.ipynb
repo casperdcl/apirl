{
 "cells": [
  {
   "cell_type": "code",
   "execution_count": null,
   "metadata": {},
   "outputs": [],
   "source": [
    "%%file strip.m\n",
    "% if MATLAB<2016b\n",
    "function s = strip(s)\n",
    "\n",
    "[grp, ~] = regexp(s, '^(\\s*)(\\S.*?)(\\s*)$', 'tokens', 'match');\n",
    "s = grp{1}{2};\n",
    "\n",
    "end"
   ]
  },
  {
   "cell_type": "code",
   "execution_count": null,
   "metadata": {},
   "outputs": [],
   "source": [
    "%%file medfilt3.m\n",
    "% if MATLAB<2016b\n",
    "function im = medfilt3(im, s)\n",
    "\n",
    "for i = 1:size(im, 3)\n",
    "im(:, :, i) = medfilt2(im(:, :, i), s(1:2));\n",
    "end\n",
    "\n",
    "for i = 1:size(im, 2)\n",
    "im(:, i, :) = medfilt2(squeeze(im(:, i, :)), [1 s(3)]);\n",
    "end\n",
    "\n",
    "end"
   ]
  },
  {
   "cell_type": "code",
   "execution_count": null,
   "metadata": {},
   "outputs": [],
   "source": [
    "imsh = @(im) imshow(squeeze(im), []);"
   ]
  },
  {
   "cell_type": "code",
   "execution_count": null,
   "metadata": {},
   "outputs": [],
   "source": [
    "LS = @(x) strsplit(strip(ls(x)));"
   ]
  }
 ],
 "metadata": {
  "kernelspec": {
   "display_name": "Matlab",
   "language": "matlab",
   "name": "matlab"
  },
  "language_info": {
   "codemirror_mode": "octave",
   "file_extension": ".m",
   "help_links": [
    {
     "text": "MetaKernel Magics",
     "url": "https://github.com/calysto/metakernel/blob/master/metakernel/magics/README.md"
    }
   ],
   "mimetype": "text/x-octave",
   "name": "matlab"
  }
 },
 "nbformat": 4,
 "nbformat_minor": 2
}
