{
 "cells": [
  {
   "cell_type": "code",
   "execution_count": null,
   "metadata": {},
   "outputs": [],
   "source": [
    "import numpy as np\n",
    "%matplotlib notebook\n",
    "from matplotlib import pyplot as plt\n",
    "from BuildGeometry_v2 import BuildGeometry_v2\n",
    "from brainweb import PETbrainWebPhantom\n",
    "\n",
    "binPath = '/home/cc16/gits/apirl/build/bin'\n",
    "temPath = '/tmp/lol'\n",
    "geoPath = '/tmp/lol'\n",
    "phanPath = '/tmp/lol'\n",
    "\n",
    "PET = BuildGeometry_v2('mmr')"
   ]
  },
  {
   "cell_type": "code",
   "execution_count": null,
   "metadata": {},
   "outputs": [],
   "source": [
    "img_3d_batch, mumap_3d_batch, t1_3d_batch, _ = PETbrainWebPhantom(\n",
    "    phanPath, phantom_number=[0,1], voxel_size=np.array(PET.image.voxelSizeCm)*10, image_size=PET.image.matrixSize,\n",
    "    pet_lesion=False, t1_lesion=False)"
   ]
  },
  {
   "cell_type": "code",
   "execution_count": null,
   "metadata": {},
   "outputs": [],
   "source": [
    "# 2D PET --------------------------------------------------\n",
    "PET.loadSystemMatrix(geoPath,is3d=False)"
   ]
  },
  {
   "cell_type": "code",
   "execution_count": null,
   "metadata": {},
   "outputs": [],
   "source": [
    "img_2d = img_3d_batch[0,:,:,50]\n",
    "mumap_2d = mumap_3d_batch[0,:,:,50]\n",
    "img_2d_batch = img_3d_batch[:,:,:,50]\n",
    "mumap_2d_batch = mumap_3d_batch[:,:,:,50]\n",
    "psf_cm = 0.4"
   ]
  },
  {
   "cell_type": "raw",
   "metadata": {},
   "source": [
    "## 2D forward project\n",
    "#y = PET.forwardProjectBatch2D(img_2d, psf = psf_cm)\n",
    "#y_batch = PET.forwardProjectBatch2D(img_2d_batch, psf = psf_cm)\n",
    "\n",
    "# simulate 2D noisy sinograms\n",
    "y,AF,_ = PET.simulateSinogramData(img_2d, mumap = mumap_2d, counts= 1e6, psf = psf_cm)\n",
    "y_batch,AF_batch,_ = PET.simulateSinogramData(img_2d_batch, mumap = mumap_2d_batch, counts= 1e6,  psf = psf_cm)\n",
    "\n",
    "# 3D OSEM and RAMLA reconstruction\n",
    "img_osem_2d = PET.OSEM2D(y, AN=AF, niter = 10, nsubs = 6, psf= 0.2)\n",
    "img_osem_2d_batch = PET.OSEM2D(y_batch, AN=AF_batch, niter = 10, nsubs = 6, psf= 0.2)\n",
    "#img_ramla_2d = PET.Ramla2D(y, AN = AF,niter = 10,nsubs=6, psf= 0.2)\n",
    "#img_ramla_2d_batch = PET.Ramla2D(y_batch, AN = AF_batch, niter = 10,nsubs=6, psf= 0.2)\n",
    "\n",
    "plt.imshow(img_osem_2d_batch[0])"
   ]
  },
  {
   "cell_type": "code",
   "execution_count": null,
   "metadata": {},
   "outputs": [],
   "source": [
    "# 3D PET ---------------------------------------------------\n",
    "#PET.plotLorsAxialCoor()\n",
    "#PET.plotMichelogram()\n",
    "PET.setApirlMmrEngine(binPath=binPath, temPath=temPath, gpu=True)"
   ]
  },
  {
   "cell_type": "code",
   "execution_count": null,
   "metadata": {},
   "outputs": [],
   "source": [
    "# 3D forward project\n",
    "#y3d = PET.forwardProjectBatch3D(img_3d_batch[0,:,:,:],psf=psf_cm)\n",
    "#y3d_batch = PET.forwardProjectBatch3D(img_3d_batch,psf=psf_cm)\n",
    "\n",
    "# simulate 3D noisy sinograms\n",
    "y3d,AF3d,_ = PET.simulateSinogramData(\n",
    "    img_3d_batch[0,:,:,:], mumap=mumap_3d_batch[0,:,:,:], counts=100e6, psf=psf_cm)\n",
    "##y3d_batch,AF3d_batch,_ = PET.simulateSinogramData(img_3d_batch, mumap = mumap_3d_batch, counts= 100e6, psf = psf_cm)"
   ]
  },
  {
   "cell_type": "code",
   "execution_count": null,
   "metadata": {},
   "outputs": [],
   "source": [
    "# 3D OSEM and RAMLA reconstruction\n",
    "img_osem_3d = PET.OSEM3D(y3d, AN=AF3d, niter=3, nsubs=14, psf=0.2)\n",
    "##img_osem_3d_batch = PET.OSEM3D(y3d_batch, AN=AF3d_batch, niter = 2, nsubs = 6, psf=0.2)\n",
    "#img_ramla_3d = PET.Ramla3D(y3d, AN=AF3d, niter = 2, nsubs = 4, psf=0.2)\n",
    "#img_ramla_3d_batch = PET.Ramla3D(y3d_batch, AN=AF3d_batch, niter = 2, nsubs = 6, psf=0.2)\n",
    "\n",
    "# switch back to 2D\n",
    "##PET.is3d = False"
   ]
  },
  {
   "cell_type": "code",
   "execution_count": null,
   "metadata": {},
   "outputs": [],
   "source": [
    "from caspyr.plotting import volshow\n",
    "#vmax=img_osem_3d.mean() * 100\n",
    "volshow([img_osem_3d[90:-90, 90:-90, ::-1].transpose(1,2,0)]);"
   ]
  }
 ],
 "metadata": {
  "kernelspec": {
   "display_name": "Python [conda env:py37]",
   "language": "python",
   "name": "conda-env-py37-py"
  },
  "language_info": {
   "codemirror_mode": {
    "name": "ipython"
   },
   "file_extension": ".py",
   "mimetype": "text/x-python",
   "name": "python",
   "nbconvert_exporter": "python"
  }
 },
 "nbformat": 4,
 "nbformat_minor": 2
}
